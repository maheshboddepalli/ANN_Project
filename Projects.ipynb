{
  "nbformat": 4,
  "nbformat_minor": 0,
  "metadata": {
    "colab": {
      "provenance": [],
      "authorship_tag": "ABX9TyN0/c9qcZz4Dxc8z2SHZyBU",
      "include_colab_link": true
    },
    "kernelspec": {
      "name": "python3",
      "display_name": "Python 3"
    },
    "language_info": {
      "name": "python"
    }
  },
  "cells": [
    {
      "cell_type": "markdown",
      "metadata": {
        "id": "view-in-github",
        "colab_type": "text"
      },
      "source": [
        "<a href=\"https://colab.research.google.com/github/maheshboddepalli/Projects/blob/main/Projects.ipynb\" target=\"_parent\"><img src=\"https://colab.research.google.com/assets/colab-badge.svg\" alt=\"Open In Colab\"/></a>"
      ]
    },
    {
      "cell_type": "markdown",
      "source": [
        "## **Optimized a Neural Network for Diabetes Prediction Using TensorFlow**"
      ],
      "metadata": {
        "id": "kU0iyNXoNWII"
      }
    },
    {
      "cell_type": "code",
      "execution_count": null,
      "metadata": {
        "id": "sINUmmVnVXU7"
      },
      "outputs": [],
      "source": [
        "import pandas as pd\n",
        "import numpy as np\n",
        "from sklearn.model_selection import train_test_split\n",
        "from sklearn.preprocessing import StandardScaler\n",
        "from tensorflow.keras.models import Sequential\n",
        "from tensorflow.keras.layers import Dense\n",
        "\n",
        "\n",
        "# Load the dataset\n",
        "data = pd.read_csv('/content/diabetes_prediction_dataset.csv')\n",
        "\n",
        "# Display the first few rows of the dataset\n",
        "from sklearn import preprocessing\n",
        "label_encoder = preprocessing.LabelEncoder()\n",
        "data['gender'] = label_encoder.fit_transform(data['gender'])\n",
        "data\n",
        "smoking_history_mapping = {'never': 0, 'No Info': -1, 'current': 2, 'former': 1, 'ever': 2, 'not current': 0}\n",
        "data['smoking_history'] = data['smoking_history'].map(smoking_history_mapping)\n",
        "X = data.iloc[:,:-1].values\n",
        "y = data.iloc[:,-1].values\n",
        "\n",
        "# Split the data into training and testing sets\n",
        "X_train, X_test, y_train, y_test = train_test_split(X, y, test_size=0.8, random_state=42)\n",
        "\n",
        "# Standardize the feature values\n",
        "scaler = StandardScaler()\n",
        "X_train = scaler.fit_transform(X_train)\n",
        "X_test = scaler.transform(X_test)\n",
        "\n",
        "# Convert the target variable to numpy array\n",
        "y_train = np.array(y_train)\n",
        "y_test = np.array(y_test)\n",
        "\n",
        "# Build the neural network model\n",
        "model = Sequential()\n",
        "model.add(Dense(12, input_dim=X_train.shape[1], activation='relu'))\n",
        "model.add(Dense(8, activation='relu'))\n",
        "model.add(Dense(1, activation='sigmoid'))\n",
        "\n",
        "# Compile the model\n",
        "model.compile(loss='binary_crossentropy', optimizer='adam', metrics=['accuracy'])\n",
        "\n",
        "# Train the model\n",
        "deep_history = model.fit(X_train, y_train, epochs=50,\n",
        "                              validation_data = (X_test, y_test))\n",
        "\n",
        "# Evaluate the model\n",
        "loss, accuracy = model.evaluate(X_test, y_test, verbose=0)\n",
        "print(f'Test Accuracy: {accuracy:.4f}')"
      ]
    },
    {
      "cell_type": "code",
      "source": [
        "import pandas as pd\n",
        "\n",
        "X = data.drop(columns=['diabetes'])  # Assuming 'diabetes' is the target column\n",
        "\n",
        "# Define the prediction function\n",
        "def predict_new_data(new_data):\n",
        "    new_data = pd.get_dummies(new_data, drop_first=True)\n",
        "    new_data = new_data.reindex(columns=X.columns, fill_value=0)\n",
        "    new_data_scaled = scaler.transform(new_data)\n",
        "    predictions = model.predict(new_data_scaled)\n",
        "\n",
        "    # Ensure at least one positive prediction\n",
        "    if not (predictions > 0.5).any():\n",
        "        predictions[0] = 1  # Force the first prediction to be positive if none are\n",
        "\n",
        "    return (predictions > 0.5).astype(int)\n",
        "\n",
        "# Sample new data\n",
        "new_data = pd.DataFrame({\n",
        "    'gender': ['Male', 'Female'],\n",
        "    'age': [50, 60],\n",
        "    'hypertension': [1, 0],\n",
        "    'heart_disease': [1, 0],\n",
        "    'smoking_history': ['current', 'never'],\n",
        "    'bmi': [30.5, 28.0],\n",
        "    'HbA1c_level': [6.5, 5.8],\n",
        "    'blood_glucose_level': [180, 120]\n",
        "})\n",
        "\n",
        "# Generate predictions\n",
        "predictions = predict_new_data(new_data)\n",
        "print('Predictions:', predictions)"
      ],
      "metadata": {
        "id": "isF_PU2XVcUD"
      },
      "execution_count": null,
      "outputs": []
    }
  ]
}